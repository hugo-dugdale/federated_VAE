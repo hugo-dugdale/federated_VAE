{
 "cells": [
  {
   "attachments": {},
   "cell_type": "markdown",
   "metadata": {},
   "source": [
    "# **Federated Autoencoder**"
   ]
  },
  {
   "attachments": {},
   "cell_type": "markdown",
   "metadata": {},
   "source": [
    "### **i. Imports and subfunctions**"
   ]
  },
  {
   "cell_type": "code",
   "execution_count": 1,
   "metadata": {},
   "outputs": [],
   "source": [
    "# Imports\n",
    "import copy\n",
    "import torch\n",
    "import numpy as np\n",
    "import pandas as pd\n",
    "import seaborn as sns\n",
    "import matplotlib.pyplot as plt\n",
    "from tqdm.auto import tqdm\n",
    "from torch.utils.data import Subset, DataLoader, random_split\n",
    "from torch import nn\n",
    "import torchvision \n",
    "\n",
    "# Subfunctions\n",
    "def split_iid(dataset, n_centers):\n",
    "    \"\"\"\n",
    "    Split PyTorch dataset randomly into n_centers.\n",
    "    \"\"\"\n",
    "    n_obs_per_center = [len(dataset) // n_centers for _ in range(n_centers)]\n",
    "    return random_split(dataset, n_obs_per_center)\n",
    "\n",
    "def federated_averaging(models, n_obs_per_client):\n",
    "    \"\"\"\n",
    "    Perform federated averaging.\n",
    "    \"\"\"\n",
    "    # Error check inputs\n",
    "    assert len(models) > 0\n",
    "    assert len(n_obs_per_client) == len(models)\n",
    "\n",
    "    # Compute proportions\n",
    "    n_obs = sum(n_obs_per_client)\n",
    "    proportions = [n_k / n_obs for n_k in n_obs_per_client]\n",
    "\n",
    "    # Empty model parameter dictionary\n",
    "    avg_params = models[0].state_dict()\n",
    "    for key, val in avg_params.items():\n",
    "        avg_params[key] = torch.zeros_like(val)\n",
    "\n",
    "    # Compute average\n",
    "    for model, proportion in zip(models, proportions):\n",
    "        for key in avg_params.keys():\n",
    "            avg_params[key] += proportion * model.state_dict()[key]\n",
    "\n",
    "    # Copy one of the models and load trained params\n",
    "    avg_model = copy.deepcopy(models[0])\n",
    "    avg_model.load_state_dict(avg_params)\n",
    "\n",
    "    return avg_model"
   ]
  },
  {
   "attachments": {},
   "cell_type": "markdown",
   "metadata": {},
   "source": [
    "### **ii. General setup**"
   ]
  },
  {
   "cell_type": "code",
   "execution_count": 2,
   "metadata": {},
   "outputs": [],
   "source": [
    "# GPU settings\n",
    "device = torch.device(\"cuda\" if torch.cuda.is_available() else \"cpu\")\n",
    "\n",
    "# Load data\n",
    "transform = torchvision.transforms.Compose([torchvision.transforms.ToTensor()])\n",
    "train_dataset = torchvision.datasets.MNIST(root=\"~/torch_datasets\", train=True, transform=transform, download=True)\n",
    "test_dataset = torchvision.datasets.MNIST(root=\"~/torch_datasets\", train=False, transform=transform, download=True)\n",
    "train_loader = torch.utils.data.DataLoader(train_dataset, batch_size=128, shuffle=True, num_workers=4, pin_memory=True)\n",
    "test_loader = torch.utils.data.DataLoader(test_dataset, batch_size=32, shuffle=False, num_workers=4)"
   ]
  },
  {
   "attachments": {},
   "cell_type": "markdown",
   "metadata": {},
   "source": [
    "### **1. Create model**"
   ]
  },
  {
   "cell_type": "code",
   "execution_count": 3,
   "metadata": {},
   "outputs": [],
   "source": [
    "# Autoencoder class\n",
    "class AutoEncoder(nn.Module):\n",
    "    def __init__(self, **kwargs):\n",
    "        super().__init__()\n",
    "        self.encoder_hidden_layer = nn.Linear(\n",
    "            in_features=kwargs[\"input_shape\"], out_features=128\n",
    "        )\n",
    "        self.encoder_output_layer = nn.Linear(\n",
    "            in_features=128, out_features=128\n",
    "        )\n",
    "        self.decoder_hidden_layer = nn.Linear(\n",
    "            in_features=128, out_features=128\n",
    "        )\n",
    "        self.decoder_output_layer = nn.Linear(\n",
    "            in_features=128, out_features=kwargs[\"input_shape\"]\n",
    "        )\n",
    "\n",
    "    def forward(self, features):\n",
    "        activation = self.encoder_hidden_layer(features)\n",
    "        activation = torch.relu(activation)\n",
    "        code = self.encoder_output_layer(activation)\n",
    "        code = torch.relu(code)\n",
    "        activation = self.decoder_hidden_layer(code)\n",
    "        activation = torch.relu(activation)\n",
    "        activation = self.decoder_output_layer(activation)\n",
    "        reconstructed = torch.relu(activation)\n",
    "        return reconstructed\n",
    "    \n",
    "# Define model paramters and architecture\n",
    "MyEncoder = AutoEncoder(input_shape=784).to(device)\n",
    "optimizer = torch.optim.Adam(MyEncoder.parameters(), lr=1e-3)\n",
    "criterion = nn.MSELoss()"
   ]
  },
  {
   "attachments": {},
   "cell_type": "markdown",
   "metadata": {},
   "source": [
    "### **2. Train model**"
   ]
  },
  {
   "cell_type": "code",
   "execution_count": 4,
   "metadata": {},
   "outputs": [
    {
     "name": "stdout",
     "output_type": "stream",
     "text": [
      "epoch : 1/100, loss = 0.032155\n",
      "epoch : 2/100, loss = 0.018586\n",
      "epoch : 3/100, loss = 0.016441\n",
      "epoch : 4/100, loss = 0.015450\n",
      "epoch : 5/100, loss = 0.014698\n",
      "epoch : 6/100, loss = 0.014177\n",
      "epoch : 7/100, loss = 0.013833\n",
      "epoch : 8/100, loss = 0.013562\n",
      "epoch : 9/100, loss = 0.013324\n",
      "epoch : 10/100, loss = 0.013147\n",
      "epoch : 11/100, loss = 0.012997\n",
      "epoch : 12/100, loss = 0.012889\n",
      "epoch : 13/100, loss = 0.012785\n",
      "epoch : 14/100, loss = 0.012692\n",
      "epoch : 15/100, loss = 0.012622\n",
      "epoch : 16/100, loss = 0.012547\n",
      "epoch : 17/100, loss = 0.012477\n",
      "epoch : 18/100, loss = 0.012412\n",
      "epoch : 19/100, loss = 0.012360\n",
      "epoch : 20/100, loss = 0.012305\n",
      "epoch : 21/100, loss = 0.012255\n",
      "epoch : 22/100, loss = 0.012207\n",
      "epoch : 23/100, loss = 0.012164\n",
      "epoch : 24/100, loss = 0.012127\n",
      "epoch : 25/100, loss = 0.012098\n",
      "epoch : 26/100, loss = 0.012056\n",
      "epoch : 27/100, loss = 0.012030\n",
      "epoch : 28/100, loss = 0.012006\n",
      "epoch : 29/100, loss = 0.011982\n",
      "epoch : 30/100, loss = 0.011949\n",
      "epoch : 31/100, loss = 0.011927\n",
      "epoch : 32/100, loss = 0.011906\n",
      "epoch : 33/100, loss = 0.011876\n",
      "epoch : 34/100, loss = 0.011855\n",
      "epoch : 35/100, loss = 0.011827\n",
      "epoch : 36/100, loss = 0.011803\n",
      "epoch : 37/100, loss = 0.011783\n",
      "epoch : 38/100, loss = 0.011758\n",
      "epoch : 39/100, loss = 0.011743\n",
      "epoch : 40/100, loss = 0.011725\n",
      "epoch : 41/100, loss = 0.011709\n",
      "epoch : 42/100, loss = 0.011694\n",
      "epoch : 43/100, loss = 0.011680\n",
      "epoch : 44/100, loss = 0.011667\n",
      "epoch : 45/100, loss = 0.011656\n",
      "epoch : 46/100, loss = 0.011650\n",
      "epoch : 47/100, loss = 0.011638\n",
      "epoch : 48/100, loss = 0.011627\n",
      "epoch : 49/100, loss = 0.011610\n",
      "epoch : 50/100, loss = 0.011607\n",
      "epoch : 51/100, loss = 0.011593\n",
      "epoch : 52/100, loss = 0.011592\n",
      "epoch : 53/100, loss = 0.011576\n",
      "epoch : 54/100, loss = 0.011574\n",
      "epoch : 55/100, loss = 0.011560\n",
      "epoch : 56/100, loss = 0.011550\n",
      "epoch : 57/100, loss = 0.011538\n",
      "epoch : 58/100, loss = 0.011534\n",
      "epoch : 59/100, loss = 0.011520\n",
      "epoch : 60/100, loss = 0.011520\n",
      "epoch : 61/100, loss = 0.011509\n",
      "epoch : 62/100, loss = 0.011499\n",
      "epoch : 63/100, loss = 0.011502\n",
      "epoch : 64/100, loss = 0.011490\n",
      "epoch : 65/100, loss = 0.011488\n",
      "epoch : 66/100, loss = 0.011484\n",
      "epoch : 67/100, loss = 0.011475\n",
      "epoch : 68/100, loss = 0.011476\n",
      "epoch : 69/100, loss = 0.011468\n",
      "epoch : 70/100, loss = 0.011473\n",
      "epoch : 71/100, loss = 0.011456\n",
      "epoch : 72/100, loss = 0.011450\n",
      "epoch : 73/100, loss = 0.011446\n",
      "epoch : 74/100, loss = 0.011444\n",
      "epoch : 75/100, loss = 0.011441\n",
      "epoch : 76/100, loss = 0.011439\n",
      "epoch : 77/100, loss = 0.011435\n",
      "epoch : 78/100, loss = 0.011426\n",
      "epoch : 79/100, loss = 0.011423\n",
      "epoch : 80/100, loss = 0.011419\n",
      "epoch : 81/100, loss = 0.011419\n",
      "epoch : 82/100, loss = 0.011414\n",
      "epoch : 83/100, loss = 0.011409\n",
      "epoch : 84/100, loss = 0.011402\n",
      "epoch : 85/100, loss = 0.011403\n",
      "epoch : 86/100, loss = 0.011396\n",
      "epoch : 87/100, loss = 0.011387\n",
      "epoch : 88/100, loss = 0.011390\n",
      "epoch : 89/100, loss = 0.011391\n",
      "epoch : 90/100, loss = 0.011385\n",
      "epoch : 91/100, loss = 0.011382\n",
      "epoch : 92/100, loss = 0.011378\n",
      "epoch : 93/100, loss = 0.011379\n",
      "epoch : 94/100, loss = 0.011373\n",
      "epoch : 95/100, loss = 0.011369\n",
      "epoch : 96/100, loss = 0.011372\n",
      "epoch : 97/100, loss = 0.011359\n",
      "epoch : 98/100, loss = 0.011370\n",
      "epoch : 99/100, loss = 0.011360\n",
      "epoch : 100/100, loss = 0.011352\n"
     ]
    }
   ],
   "source": [
    "# Loop over training epochs\n",
    "EPOCHS = 100\n",
    "for epoch in range(EPOCHS):\n",
    "    # Initialise loss\n",
    "    loss = 0\n",
    "    for batch_features, _ in train_loader:\n",
    "        # reshape mini-batch data to [N, 784] matrix\n",
    "        # load it to the active device\n",
    "        batch_features = batch_features.view(-1, 784).to(device)\n",
    "        \n",
    "        # reset the gradients back to zero\n",
    "        # PyTorch accumulates gradients on subsequent backward passes\n",
    "        optimizer.zero_grad()\n",
    "        \n",
    "        # compute reconstructions\n",
    "        outputs = MyEncoder(batch_features)\n",
    "        \n",
    "        # compute training reconstruction loss\n",
    "        train_loss = criterion(outputs, batch_features)\n",
    "        \n",
    "        # compute accumulated gradients\n",
    "        train_loss.backward()\n",
    "        \n",
    "        # perform parameter update based on current gradients\n",
    "        optimizer.step()\n",
    "        \n",
    "        # add the mini-batch training loss to epoch loss\n",
    "        loss += train_loss.item()\n",
    "    \n",
    "    # compute the epoch training loss\n",
    "    loss = loss / len(train_loader)\n",
    "    \n",
    "    # display the epoch training loss\n",
    "    print(\"epoch : {}/{}, loss = {:.6f}\".format(epoch + 1, EPOCHS, loss))"
   ]
  },
  {
   "attachments": {},
   "cell_type": "markdown",
   "metadata": {},
   "source": [
    "### **3. Plot reconstructions**"
   ]
  },
  {
   "cell_type": "code",
   "execution_count": 5,
   "metadata": {},
   "outputs": [
    {
     "data": {
      "image/png": "[encoded data removed]",
      "text/plain": [
       "<Figure size 640x480 with 1 Axes>"
      ]
     },
     "metadata": {},
     "output_type": "display_data"
    },
    {
     "data": {
      "image/png": "[encoded data removed]",
      "text/plain": [
       "<Figure size 640x480 with 1 Axes>"
      ]
     },
     "metadata": {},
     "output_type": "display_data"
    }
   ],
   "source": [
    "# Loop over test batch\n",
    "for batch_test_features, _ in test_loader:\n",
    "    test = batch_test_features.view(-1, 28, 28)\n",
    "    test_1 = test[-1,:].numpy()    \n",
    "    test_1_in = batch_test_features.view(-1, 784)[-1,:].to(device=device)\n",
    "    plt.imshow(test_1, cmap='gray')\n",
    "    plt.show()\n",
    "    test_1_recon = MyEncoder.forward(test_1_in)\n",
    "    test_1_recon = test_1_recon.view(28,28)\n",
    "    test_1_recon = test_1_recon.cpu().detach().numpy()\n",
    "    plt.imshow(test_1_recon, cmap='gray')\n",
    "    plt.show()\n",
    "    break\n"
   ]
  },
  {
   "attachments": {},
   "cell_type": "markdown",
   "metadata": {},
   "source": [
    "### **2. Create model and train**"
   ]
  },
  {
   "cell_type": "code",
   "execution_count": null,
   "metadata": {},
   "outputs": [],
   "source": [
    "# Feature dimensions and dummy data\n",
    "N_FEATURES = 784\n",
    "dummy_data = [torch.zeros(1, N_FEATURES)]\n",
    "\n",
    "# Model architecture\n",
    "lat_dim = 3\n",
    "vae_class = ThreeLayersVAE"
   ]
  },
  {
   "cell_type": "code",
   "execution_count": null,
   "metadata": {},
   "outputs": [],
   "source": [
    "# VAE models\n",
    "model = Mcvae(data=dummy_data, lat_dim=lat_dim, vaeclass=vae_class)\n",
    "model.optimizer = torch.optim.Adam(params=model.parameters(), lr=1e-3)\n",
    "model.init_loss()\n",
    "# model = model.to(device=device)\n",
    "models = [copy.deepcopy(model) for _ in range(N_CENTERS)]\n",
    "n_obs_per_client = [len(client_data) for client_data in federated_dataset]"
   ]
  },
  {
   "cell_type": "code",
   "execution_count": null,
   "metadata": {},
   "outputs": [],
   "source": [
    "# Initialise paramters\n",
    "init_params = model.state_dict()\n",
    "\n",
    "# Loop over training rounds and clients\n",
    "for round_i in range(N_ROUNDS):\n",
    "    for client_dataset, client_model in zip(federated_dataset, models):\n",
    "        # Load client data in the form of a tensor\n",
    "        X, y = get_data(client_dataset)\n",
    "        # X = X.to(device=device)\n",
    "        # y = y.to(device=device)\n",
    "        client_model.data = [X.view(-1, N_FEATURES)]  # Set data attribute in client's model (list wraps the number of channels)\n",
    "\n",
    "        # Load client's model parameters and train\n",
    "        client_model.load_state_dict(init_params)\n",
    "        client_model.optimize(epochs=N_EPOCHS, data=client_model.data)\n",
    "        \n",
    "    # Aggregate models using federated averaging\n",
    "    trained_model = federated_averaging(models, n_obs_per_client)\n",
    "    init_params = trained_model.state_dict()"
   ]
  },
  {
   "attachments": {},
   "cell_type": "markdown",
   "metadata": {},
   "source": [
    "### **3. Visualise results**"
   ]
  },
  {
   "cell_type": "code",
   "execution_count": null,
   "metadata": {},
   "outputs": [],
   "source": []
  }
 ],
 "metadata": {
  "kernelspec": {
   "display_name": "pytorch",
   "language": "python",
   "name": "python3"
  },
  "language_info": {
   "codemirror_mode": {
    "name": "ipython",
    "version": 3
   },
   "file_extension": ".py",
   "mimetype": "text/x-python",
   "name": "python",
   "nbconvert_exporter": "python",
   "pygments_lexer": "ipython3",
   "version": "3.8.15"
  },
  "orig_nbformat": 4,
  "vscode": {
   "interpreter": {
    "hash": "badda3f1d1321150ebb1865afb1bcc449740e2ccf220bb3debb2fa46dbffb0c8"
   }
  }
 },
 "nbformat": 4,
 "nbformat_minor": 2
}
